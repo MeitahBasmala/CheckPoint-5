{
 "cells": [
  {
   "cell_type": "code",
   "execution_count": 1,
   "id": "1e0d2993",
   "metadata": {},
   "outputs": [
    {
     "name": "stdout",
     "output_type": "stream",
     "text": [
      "( 1 , 2 , 3 )\n"
     ]
    }
   ],
   "source": [
    "'''Write a Python class named Point3D defined by x, y, and z.\n",
    "Define a method that returns (x, y ,z). This tells Python to represent this object in the following \n",
    "format: (x, y, z). Then create a variable named my_point containing \n",
    "a new instance of Point3D with x=1, y=2, and z=3 and print it.'''\n",
    "\n",
    "class Point3D:\n",
    "    def __init__(self, x, y, z):\n",
    "        self.x= x\n",
    "        self.y= y\n",
    "        self.z= z\n",
    "    def printf(self):\n",
    "        print('(',self.x,',',self.y,',',self.z, ')')\n",
    "    \n",
    "my_point = Point3D(1,2,3)\n",
    "my_point.printf()\n"
   ]
  },
  {
   "cell_type": "code",
   "execution_count": 2,
   "id": "a628e26f",
   "metadata": {},
   "outputs": [
    {
     "name": "stdout",
     "output_type": "stream",
     "text": [
      "area =  4\n",
      "perimeter =  8\n"
     ]
    }
   ],
   "source": [
    "'''Write a Python class named Rectangle constructed by a length and width.\n",
    "Define two methods, area and perimeter, which will compute the area and the perimeter of the rectangle.\n",
    "Then create a variable named my_rectangle containing a new instance of \n",
    "Rectangle with width=3 and length = 4 and compute both area and perimeter \n",
    "( the area is expected to be 3*4=12 and perimeter 2*(3+4)=14).\n",
    "        '''\n",
    "class Rectangle:\n",
    "    def __init__(self, length , width):\n",
    "        self.length = length\n",
    "        self.width = width\n",
    "    def area(self):\n",
    "        print(\"area = \" , self.length * self.width)\n",
    "    def perimeter(self):\n",
    "        print(\"perimeter = \" , (self.length + self.width) *2)\n",
    "a = Rectangle(2,2)\n",
    "a.area()\n",
    "a.perimeter()"
   ]
  },
  {
   "cell_type": "code",
   "execution_count": 5,
   "id": "83e605ba",
   "metadata": {},
   "outputs": [
    {
     "name": "stdout",
     "output_type": "stream",
     "text": [
      "Enter X0: 2\n",
      "Enter Y0: 3\n",
      "Enter X: 9\n",
      "Enter Y: 8\n",
      "Enter the radius : 10\n",
      "the point belongs to the circle\n"
     ]
    }
   ],
   "source": [
    "'''Write a Python  class named Circle constructed by its center O and radius r.\n",
    "Define two methods, area and perimeter, which will compute the area and the perimeter of the circle,\n",
    "and is Inside() method which allows you to test whether a point A(x, y)\n",
    "belongs to the circle C(O, r)or not.'''\n",
    "\n",
    "import math\n",
    "class Point2D:\n",
    "    def __init__(self, x, y):\n",
    "        self.x= x\n",
    "        self.y= y\n",
    "    def getX(self):\n",
    "        return self.x \n",
    "    def getY(self):\n",
    "        return self.y\n",
    "    \n",
    "class Circle:\n",
    "    def __init__(self,O,r):\n",
    "        self.O = O\n",
    "        self.r = r\n",
    "    def area(self):\n",
    "        print(\"area = \" , math.pi * (self.r **2))\n",
    "    def perimeter(self):\n",
    "        print(\"perimeter = \" , 2 * self.r * math.pi)\n",
    "    def getR(self):\n",
    "        return self.r\n",
    "    def check(self,A):\n",
    "        if (A.getX() - O.getX())**2 + (A.getY() - O.getY())**2 <= C.getR()**2:\n",
    "            print('the point belongs to the circle')\n",
    "        else:\n",
    "            print('the point does not belong to the circle')\n",
    "\n",
    "x0=float(input('Enter X0: '))\n",
    "y0=float(input('Enter Y0: '))\n",
    "x=float(input('Enter X: '))\n",
    "y=float(input('Enter Y: '))\n",
    "r = float(input('Enter the radius : '))\n",
    "O = Point2D(x0,y0)\n",
    "C = Circle(O,r)       \n",
    "A = Point2D(x,y)\n",
    "C.check(A)"
   ]
  },
  {
   "cell_type": "code",
   "execution_count": 1,
   "id": "4fa0475b",
   "metadata": {},
   "outputs": [
    {
     "name": "stdout",
     "output_type": "stream",
     "text": [
      "your balance 10 DA\n",
      "Enter the amount you want to deposit: 12\n",
      "Enter the amount you want to withdraw: 10\n",
      "your balance 12.0 DA\n"
     ]
    }
   ],
   "source": [
    "'''Suppose we want to model a bank account with support for deposit and withdraw operations.\n",
    "Let’s create a Python class named Bank defined by its balance.\n",
    "Define two methods, deposit and withdraw, to compute the new amount of each operation.'''\n",
    "\n",
    "class Bank:\n",
    "    def __init__(self,balance):\n",
    "        self.balance = balance \n",
    "    def deposit(self):\n",
    "        deposited_money =float(input(\"Enter the amount you want to deposit: \"))\n",
    "        self.balance += deposited_money\n",
    "    def withdraw(self):\n",
    "        withdrawn_money = float(input(\"Enter the amount you want to withdraw: \"))\n",
    "        if self.balance>=withdrawn_money:\n",
    "            self.balance-=withdrawn_money\n",
    "        else:\n",
    "            print(\"\\n we could not complete this operation maybe you have an insufficient balance  \")\n",
    "    def display(self):\n",
    "        print('your balance',self.balance,'DA' )\n",
    "        \n",
    "        \n",
    "a = Bank(10)\n",
    "a.display()\n",
    "a.deposit()\n",
    "a.withdraw()\n",
    "a.display()\n",
    "    "
   ]
  }
 ],
 "metadata": {
  "kernelspec": {
   "display_name": "Python 3 (ipykernel)",
   "language": "python",
   "name": "python3"
  },
  "language_info": {
   "codemirror_mode": {
    "name": "ipython",
    "version": 3
   },
   "file_extension": ".py",
   "mimetype": "text/x-python",
   "name": "python",
   "nbconvert_exporter": "python",
   "pygments_lexer": "ipython3",
   "version": "3.9.12"
  }
 },
 "nbformat": 4,
 "nbformat_minor": 5
}
